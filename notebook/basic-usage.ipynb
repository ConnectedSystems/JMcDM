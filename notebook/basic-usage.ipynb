{
 "cells": [
  {
   "cell_type": "code",
   "execution_count": 46,
   "metadata": {},
   "outputs": [],
   "source": [
    "using JMcDM"
   ]
  },
  {
   "cell_type": "code",
   "execution_count": 47,
   "metadata": {},
   "outputs": [],
   "source": [
    "using DataFrames"
   ]
  },
  {
   "cell_type": "code",
   "execution_count": 48,
   "metadata": {},
   "outputs": [
    {
     "data": {
      "text/html": [
       "<div class=\"data-frame\"><p>4 rows × 3 columns</p><table class=\"data-frame\"><thead><tr><th></th><th>criterion1</th><th>criterion2</th><th>criterion3</th></tr><tr><th></th><th title=\"Float64\">Float64</th><th title=\"Float64\">Float64</th><th title=\"Float64\">Float64</th></tr></thead><tbody><tr><th>1</th><td>1.0</td><td>2.0</td><td>4.0</td></tr><tr><th>2</th><td>2.0</td><td>3.0</td><td>3.0</td></tr><tr><th>3</th><td>3.0</td><td>1.0</td><td>1.0</td></tr><tr><th>4</th><td>4.0</td><td>4.0</td><td>2.0</td></tr></tbody></table></div>"
      ],
      "text/latex": [
       "\\begin{tabular}{r|ccc}\n",
       "\t& criterion1 & criterion2 & criterion3\\\\\n",
       "\t\\hline\n",
       "\t& Float64 & Float64 & Float64\\\\\n",
       "\t\\hline\n",
       "\t1 & 1.0 & 2.0 & 4.0 \\\\\n",
       "\t2 & 2.0 & 3.0 & 3.0 \\\\\n",
       "\t3 & 3.0 & 1.0 & 1.0 \\\\\n",
       "\t4 & 4.0 & 4.0 & 2.0 \\\\\n",
       "\\end{tabular}\n"
      ],
      "text/plain": [
       "\u001b[1m4×3 DataFrame\u001b[0m\n",
       "\u001b[1m Row \u001b[0m│\u001b[1m criterion1 \u001b[0m\u001b[1m criterion2 \u001b[0m\u001b[1m criterion3 \u001b[0m\n",
       "\u001b[1m     \u001b[0m│\u001b[90m Float64    \u001b[0m\u001b[90m Float64    \u001b[0m\u001b[90m Float64    \u001b[0m\n",
       "─────┼────────────────────────────────────\n",
       "   1 │        1.0         2.0         4.0\n",
       "   2 │        2.0         3.0         3.0\n",
       "   3 │        3.0         1.0         1.0\n",
       "   4 │        4.0         4.0         2.0"
      ]
     },
     "execution_count": 48,
     "metadata": {},
     "output_type": "execute_result"
    }
   ],
   "source": [
    "df = DataFrame(\n",
    "    criterion1 = [1.0, 2.0, 3.0, 4.0],\n",
    "    criterion2 = [2.0, 3.0, 1.0, 4.0],\n",
    "    criterion3 = [4.0, 3.0, 1.0, 2.0]\n",
    ")"
   ]
  },
  {
   "cell_type": "code",
   "execution_count": 49,
   "metadata": {},
   "outputs": [
    {
     "data": {
      "text/plain": [
       "3-element Vector{Float64}:\n",
       " 0.3\n",
       " 0.3\n",
       " 0.4"
      ]
     },
     "execution_count": 49,
     "metadata": {},
     "output_type": "execute_result"
    }
   ],
   "source": [
    "w = [0.3, 0.3, 0.4]"
   ]
  },
  {
   "cell_type": "code",
   "execution_count": 50,
   "metadata": {},
   "outputs": [
    {
     "data": {
      "text/plain": [
       "3-element Vector{typeof(maximum)}:\n",
       " maximum (generic function with 13 methods)\n",
       " maximum (generic function with 13 methods)\n",
       " maximum (generic function with 13 methods)"
      ]
     },
     "execution_count": 50,
     "metadata": {},
     "output_type": "execute_result"
    }
   ],
   "source": [
    "fns = [maximum, maximum, maximum]"
   ]
  },
  {
   "cell_type": "code",
   "execution_count": 51,
   "metadata": {},
   "outputs": [
    {
     "data": {
      "text/plain": [
       "Scores:\n",
       "Any[0.5334828131703736, 0.5720541556753176, 0.2817290466902531, 0.6251463814648187]\n",
       "Best indices:\n",
       "4\n"
      ]
     },
     "execution_count": 51,
     "metadata": {},
     "output_type": "execute_result"
    }
   ],
   "source": [
    "topsis(df, w, fns)"
   ]
  },
  {
   "cell_type": "code",
   "execution_count": 52,
   "metadata": {},
   "outputs": [
    {
     "data": {
      "text/plain": [
       "Scores:\n",
       "[0.625, 0.675, 0.4, 0.8]\n",
       "Ordering: \n",
       "[4, 2, 1, 3]\n",
       "Best indices:\n",
       "4\n"
      ]
     },
     "execution_count": 52,
     "metadata": {},
     "output_type": "execute_result"
    }
   ],
   "source": [
    "saw(df, w, fns)"
   ]
  },
  {
   "cell_type": "code",
   "execution_count": 53,
   "metadata": {},
   "outputs": [
    {
     "data": {
      "text/plain": [
       "Scores:\n",
       "Any[0.625, 0.6749999999999999, 0.39999999999999997, 0.7999999999999999]\n",
       "Orderings: \n",
       "[3, 1, 2, 4]\n",
       "Best indices:\n",
       "4\n"
      ]
     },
     "execution_count": 53,
     "metadata": {},
     "output_type": "execute_result"
    }
   ],
   "source": [
    "aras(df, w, fns)"
   ]
  },
  {
   "cell_type": "code",
   "execution_count": 54,
   "metadata": {},
   "outputs": [
    {
     "data": {
      "text/html": [
       "<div class=\"data-frame\"><p>4 rows × 6 columns</p><table class=\"data-frame\"><thead><tr><th></th><th>Aras</th><th>Moora</th><th>Saw</th><th>Topsis</th><th>Waspas</th><th>Copeland</th></tr><tr><th></th><th title=\"Int64\">Int64</th><th title=\"Int64\">Int64</th><th title=\"Int64\">Int64</th><th title=\"Int64\">Int64</th><th title=\"Int64\">Int64</th><th title=\"Int64\">Int64</th></tr></thead><tbody><tr><th>1</th><td>2</td><td>3</td><td>2</td><td>2</td><td>2</td><td>1</td></tr><tr><th>2</th><td>3</td><td>1</td><td>3</td><td>3</td><td>3</td><td>-1</td></tr><tr><th>3</th><td>1</td><td>4</td><td>1</td><td>1</td><td>1</td><td>3</td></tr><tr><th>4</th><td>4</td><td>2</td><td>4</td><td>4</td><td>4</td><td>-3</td></tr></tbody></table></div>"
      ],
      "text/latex": [
       "\\begin{tabular}{r|cccccc}\n",
       "\t& Aras & Moora & Saw & Topsis & Waspas & Copeland\\\\\n",
       "\t\\hline\n",
       "\t& Int64 & Int64 & Int64 & Int64 & Int64 & Int64\\\\\n",
       "\t\\hline\n",
       "\t1 & 2 & 3 & 2 & 2 & 2 & 1 \\\\\n",
       "\t2 & 3 & 1 & 3 & 3 & 3 & -1 \\\\\n",
       "\t3 & 1 & 4 & 1 & 1 & 1 & 3 \\\\\n",
       "\t4 & 4 & 2 & 4 & 4 & 4 & -3 \\\\\n",
       "\\end{tabular}\n"
      ],
      "text/plain": [
       "\u001b[1m4×6 DataFrame\u001b[0m\n",
       "\u001b[1m Row \u001b[0m│\u001b[1m Aras  \u001b[0m\u001b[1m Moora \u001b[0m\u001b[1m Saw   \u001b[0m\u001b[1m Topsis \u001b[0m\u001b[1m Waspas \u001b[0m\u001b[1m Copeland \u001b[0m\n",
       "\u001b[1m     \u001b[0m│\u001b[90m Int64 \u001b[0m\u001b[90m Int64 \u001b[0m\u001b[90m Int64 \u001b[0m\u001b[90m Int64  \u001b[0m\u001b[90m Int64  \u001b[0m\u001b[90m Int64    \u001b[0m\n",
       "─────┼───────────────────────────────────────────────\n",
       "   1 │     2      3      2       2       2         1\n",
       "   2 │     3      1      3       3       3        -1\n",
       "   3 │     1      4      1       1       1         3\n",
       "   4 │     4      2      4       4       4        -3"
      ]
     },
     "execution_count": 54,
     "metadata": {},
     "output_type": "execute_result"
    }
   ],
   "source": [
    "copeland(df, w, fns, [TopsisMethod(), SawMethod(), ArasMethod(), WaspasMethod(), MooraMethod()])"
   ]
  },
  {
   "cell_type": "code",
   "execution_count": 55,
   "metadata": {},
   "outputs": [
    {
     "data": {
      "text/plain": [
       "Weights: \n",
       "[0.375, 0.21875000000000006, 0.40625]\n"
      ]
     },
     "execution_count": 55,
     "metadata": {},
     "output_type": "execute_result"
    }
   ],
   "source": [
    "critic_result = critic(df, fns)"
   ]
  },
  {
   "cell_type": "code",
   "execution_count": 56,
   "metadata": {},
   "outputs": [
    {
     "data": {
      "text/html": [
       "<div class=\"data-frame\"><p>4 rows × 4 columns</p><table class=\"data-frame\"><thead><tr><th></th><th>Psi</th><th>Saw</th><th>Topsis</th><th>Copeland</th></tr><tr><th></th><th title=\"Int64\">Int64</th><th title=\"Int64\">Int64</th><th title=\"Int64\">Int64</th><th title=\"Int64\">Int64</th></tr></thead><tbody><tr><th>1</th><td>2</td><td>2</td><td>2</td><td>1</td></tr><tr><th>2</th><td>3</td><td>3</td><td>3</td><td>-1</td></tr><tr><th>3</th><td>1</td><td>1</td><td>1</td><td>3</td></tr><tr><th>4</th><td>4</td><td>4</td><td>4</td><td>-3</td></tr></tbody></table></div>"
      ],
      "text/latex": [
       "\\begin{tabular}{r|cccc}\n",
       "\t& Psi & Saw & Topsis & Copeland\\\\\n",
       "\t\\hline\n",
       "\t& Int64 & Int64 & Int64 & Int64\\\\\n",
       "\t\\hline\n",
       "\t1 & 2 & 2 & 2 & 1 \\\\\n",
       "\t2 & 3 & 3 & 3 & -1 \\\\\n",
       "\t3 & 1 & 1 & 1 & 3 \\\\\n",
       "\t4 & 4 & 4 & 4 & -3 \\\\\n",
       "\\end{tabular}\n"
      ],
      "text/plain": [
       "\u001b[1m4×4 DataFrame\u001b[0m\n",
       "\u001b[1m Row \u001b[0m│\u001b[1m Psi   \u001b[0m\u001b[1m Saw   \u001b[0m\u001b[1m Topsis \u001b[0m\u001b[1m Copeland \u001b[0m\n",
       "\u001b[1m     \u001b[0m│\u001b[90m Int64 \u001b[0m\u001b[90m Int64 \u001b[0m\u001b[90m Int64  \u001b[0m\u001b[90m Int64    \u001b[0m\n",
       "─────┼────────────────────────────────\n",
       "   1 │     2      2       2         1\n",
       "   2 │     3      3       3        -1\n",
       "   3 │     1      1       1         3\n",
       "   4 │     4      4       4        -3"
      ]
     },
     "execution_count": 56,
     "metadata": {},
     "output_type": "execute_result"
    }
   ],
   "source": [
    "copeland(df, critic_result.w, fns, [TopsisMethod(), SawMethod(), PSIMethod()])"
   ]
  },
  {
   "cell_type": "code",
   "execution_count": null,
   "metadata": {},
   "outputs": [],
   "source": []
  }
 ],
 "metadata": {
  "kernelspec": {
   "display_name": "Julia 1.9.0-DEV",
   "language": "julia",
   "name": "julia-1.9"
  },
  "language_info": {
   "file_extension": ".jl",
   "mimetype": "application/julia",
   "name": "julia",
   "version": "1.9.0"
  }
 },
 "nbformat": 4,
 "nbformat_minor": 4
}
